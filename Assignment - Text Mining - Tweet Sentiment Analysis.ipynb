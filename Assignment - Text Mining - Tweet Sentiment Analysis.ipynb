{
 "cells": [
  {
   "cell_type": "markdown",
   "metadata": {},
   "source": [
    "## Sentiment Analysis on Twitter Data"
   ]
  },
  {
   "cell_type": "code",
   "execution_count": 1,
   "metadata": {
    "ExecuteTime": {
     "end_time": "2020-12-10T10:41:57.796468Z",
     "start_time": "2020-12-10T10:41:54.184066Z"
    }
   },
   "outputs": [],
   "source": [
    "### Reading Libraries\n",
    "import tweepy as tw\n",
    "import numpy as np\n",
    "import pandas as pd\n",
    "import string\n",
    "import spacy\n",
    "from matplotlib.pyplot import imread\n",
    "from matplotlib import pyplot as plt\n",
    "%matplotlib inline\n",
    "from wordcloud import WordCloud\n",
    "import re\n",
    "import seaborn as sns"
   ]
  },
  {
   "cell_type": "code",
   "execution_count": 2,
   "metadata": {
    "ExecuteTime": {
     "end_time": "2020-12-10T10:41:58.321515Z",
     "start_time": "2020-12-10T10:41:58.313908Z"
    }
   },
   "outputs": [],
   "source": [
    "## Key and Access tokens for twitter account\n",
    "consumer_key = 'C7kHXHU16aQUWWHZaRttFXRzx'\n",
    "consumer_secret = 'sDko6mIHPPzkecrGHIg81ezsEPcsiOU4oQI6kDtY28QOFgva42'\n",
    "access_token = '1335135884094533633-xhcZq2pJqTyNrs7bLPJXpDdVa86mzd'\n",
    "access_token_secret = 'yBq2kgPWPt8KVRmS3N4WfObPXNKSc7r9kkmXeVuWo5h4h'"
   ]
  },
  {
   "cell_type": "code",
   "execution_count": 3,
   "metadata": {
    "ExecuteTime": {
     "end_time": "2020-12-10T10:41:58.921104Z",
     "start_time": "2020-12-10T10:41:58.913106Z"
    }
   },
   "outputs": [],
   "source": [
    "## Authenticating Twitter API\n",
    "auth = tw.OAuthHandler(consumer_key, consumer_secret)\n",
    "auth.set_access_token(access_token, access_token_secret)\n",
    "api = tw.API(auth, wait_on_rate_limit= True)"
   ]
  },
  {
   "cell_type": "code",
   "execution_count": 4,
   "metadata": {
    "ExecuteTime": {
     "end_time": "2020-12-10T10:43:12.587400Z",
     "start_time": "2020-12-10T10:41:59.585909Z"
    }
   },
   "outputs": [],
   "source": [
    "## Extracting Tweets from Narendra Modi's Twitter account\n",
    "hashtag = 'narendramodi'\n",
    "query = tw.Cursor(api.search, q=hashtag+ '-filter:retweets', lang = 'en').items(1000)\n",
    "tweets = [{\"Tweets\": tweet.text} for tweet in query]\n"
   ]
  },
  {
   "cell_type": "code",
   "execution_count": 5,
   "metadata": {
    "ExecuteTime": {
     "end_time": "2020-12-10T10:46:36.104458Z",
     "start_time": "2020-12-10T10:46:36.088450Z"
    }
   },
   "outputs": [
    {
     "data": {
      "text/plain": [
       "[{'Tweets': '@torquetargetted @SavitaVantagodi @srivatsayb @narendramodi no jokes on you, get out of the sanghi mindset and thin… https://t.co/Mli8VGpNMm'},\n",
       " {'Tweets': '@Raveendran95 @SreeSrinair @narendramodi @HMOIndia @nsitharamanoffc Must be banned'},\n",
       " {'Tweets': '@narendramodi @PMOIndia  Dear Sir, please impose sanctions on Mynmar and support democracy in that country. If we d… https://t.co/70Y7CeHdxo'},\n",
       " {'Tweets': 'India has seen a new dawn of economic development under the leadership of PM Shri @narendramodi &amp; FM Smt… https://t.co/lgT07Alc4X'},\n",
       " {'Tweets': '#Budget2021 Natl Research Foundation outlay at 50 thousand Cr rupees over 5 yrs\\n@nsitharaman @narendramodi… https://t.co/EmxhRkFJnd'}]"
      ]
     },
     "execution_count": 5,
     "metadata": {},
     "output_type": "execute_result"
    }
   ],
   "source": [
    "tweets[0:5]"
   ]
  },
  {
   "cell_type": "code",
   "execution_count": 6,
   "metadata": {
    "ExecuteTime": {
     "end_time": "2020-12-10T10:46:37.727866Z",
     "start_time": "2020-12-10T10:46:37.721166Z"
    }
   },
   "outputs": [],
   "source": [
    "df = pd.DataFrame(tweets)"
   ]
  },
  {
   "cell_type": "code",
   "execution_count": 7,
   "metadata": {
    "ExecuteTime": {
     "end_time": "2020-12-10T10:46:38.480602Z",
     "start_time": "2020-12-10T10:46:38.464603Z"
    }
   },
   "outputs": [
    {
     "data": {
      "text/plain": [
       "(1000, 1)"
      ]
     },
     "execution_count": 7,
     "metadata": {},
     "output_type": "execute_result"
    }
   ],
   "source": [
    "df.shape"
   ]
  },
  {
   "cell_type": "code",
   "execution_count": 8,
   "metadata": {
    "ExecuteTime": {
     "end_time": "2020-12-10T10:46:41.563446Z",
     "start_time": "2020-12-10T10:46:41.555278Z"
    }
   },
   "outputs": [],
   "source": [
    "## Cleaning Text\n",
    "def clean_text(text):\n",
    "    text = re.sub(r'@[A-Za-z0-9]+', '', text)\n",
    "    text = re.sub(r'#', '', text)\n",
    "    text = re.sub(r'RT[\\s]+', '', text)\n",
    "    text = re.sub(r'https?:\\/\\/\\S+', '', text)\n",
    "    text = re.sub(r':', '', text)\n",
    "    return text\n",
    "    "
   ]
  },
  {
   "cell_type": "code",
   "execution_count": 9,
   "metadata": {
    "ExecuteTime": {
     "end_time": "2020-12-10T10:46:42.640519Z",
     "start_time": "2020-12-10T10:46:42.614080Z"
    }
   },
   "outputs": [],
   "source": [
    "df['Tweets']= df['Tweets'].apply(clean_text)"
   ]
  },
  {
   "cell_type": "code",
   "execution_count": 10,
   "metadata": {
    "ExecuteTime": {
     "end_time": "2020-12-10T10:46:43.675953Z",
     "start_time": "2020-12-10T10:46:43.656457Z"
    }
   },
   "outputs": [
    {
     "data": {
      "text/html": [
       "<div>\n",
       "<style scoped>\n",
       "    .dataframe tbody tr th:only-of-type {\n",
       "        vertical-align: middle;\n",
       "    }\n",
       "\n",
       "    .dataframe tbody tr th {\n",
       "        vertical-align: top;\n",
       "    }\n",
       "\n",
       "    .dataframe thead th {\n",
       "        text-align: right;\n",
       "    }\n",
       "</style>\n",
       "<table border=\"1\" class=\"dataframe\">\n",
       "  <thead>\n",
       "    <tr style=\"text-align: right;\">\n",
       "      <th></th>\n",
       "      <th>Tweets</th>\n",
       "    </tr>\n",
       "  </thead>\n",
       "  <tbody>\n",
       "    <tr>\n",
       "      <th>0</th>\n",
       "      <td>no jokes on you, get out of the sanghi min...</td>\n",
       "    </tr>\n",
       "    <tr>\n",
       "      <th>1</th>\n",
       "      <td>Must be banned</td>\n",
       "    </tr>\n",
       "    <tr>\n",
       "      <th>2</th>\n",
       "      <td>Dear Sir, please impose sanctions on Mynmar...</td>\n",
       "    </tr>\n",
       "    <tr>\n",
       "      <th>3</th>\n",
       "      <td>India has seen a new dawn of economic developm...</td>\n",
       "    </tr>\n",
       "    <tr>\n",
       "      <th>4</th>\n",
       "      <td>Budget2021 Natl Research Foundation outlay at ...</td>\n",
       "    </tr>\n",
       "  </tbody>\n",
       "</table>\n",
       "</div>"
      ],
      "text/plain": [
       "                                              Tweets\n",
       "0      no jokes on you, get out of the sanghi min...\n",
       "1                                     Must be banned\n",
       "2     Dear Sir, please impose sanctions on Mynmar...\n",
       "3  India has seen a new dawn of economic developm...\n",
       "4  Budget2021 Natl Research Foundation outlay at ..."
      ]
     },
     "execution_count": 10,
     "metadata": {},
     "output_type": "execute_result"
    }
   ],
   "source": [
    "df.head()"
   ]
  },
  {
   "cell_type": "code",
   "execution_count": 11,
   "metadata": {
    "ExecuteTime": {
     "end_time": "2020-12-10T10:46:47.368446Z",
     "start_time": "2020-12-10T10:46:47.360172Z"
    }
   },
   "outputs": [],
   "source": [
    "df = [Tweets.strip() for Tweets in df.Tweets]"
   ]
  },
  {
   "cell_type": "code",
   "execution_count": 12,
   "metadata": {
    "ExecuteTime": {
     "end_time": "2020-12-10T10:46:48.224161Z",
     "start_time": "2020-12-10T10:46:48.210553Z"
    }
   },
   "outputs": [
    {
     "data": {
      "text/plain": [
       "['no jokes on you, get out of the sanghi mindset and thin…',\n",
       " 'Must be banned',\n",
       " 'Dear Sir, please impose sanctions on Mynmar and support democracy in that country. If we d…',\n",
       " 'India has seen a new dawn of economic development under the leadership of PM Shri  &amp; FM Smt…',\n",
       " 'Budget2021 Natl Research Foundation outlay at 50 thousand Cr rupees over 5 yrs\\n …',\n",
       " 'Accident occurred on National Highway No. 326 under control of Central Govt. due to failure…',\n",
       " 'The PM Gareeb Kalyan Yojana, the three Aatmanirbhar packages and announcements made later were five mini-budgets in…',\n",
       " 'The investment on health infrastructure in this budget has increased substantially. Progressively, as institutions…',\n",
       " \"Let's trend reducefuelprice\\n\\ngovernment NarendraModi YOUTH\",\n",
       " 'As  said  is doing  a corporate puppet is working on directions of corporates…']"
      ]
     },
     "execution_count": 12,
     "metadata": {},
     "output_type": "execute_result"
    }
   ],
   "source": [
    "df[0:10]"
   ]
  },
  {
   "cell_type": "code",
   "execution_count": 13,
   "metadata": {
    "ExecuteTime": {
     "end_time": "2020-12-10T10:46:57.042238Z",
     "start_time": "2020-12-10T10:46:57.018078Z"
    }
   },
   "outputs": [
    {
     "data": {
      "text/html": [
       "<div>\n",
       "<style scoped>\n",
       "    .dataframe tbody tr th:only-of-type {\n",
       "        vertical-align: middle;\n",
       "    }\n",
       "\n",
       "    .dataframe tbody tr th {\n",
       "        vertical-align: top;\n",
       "    }\n",
       "\n",
       "    .dataframe thead th {\n",
       "        text-align: right;\n",
       "    }\n",
       "</style>\n",
       "<table border=\"1\" class=\"dataframe\">\n",
       "  <thead>\n",
       "    <tr style=\"text-align: right;\">\n",
       "      <th></th>\n",
       "      <th>word</th>\n",
       "      <th>value</th>\n",
       "    </tr>\n",
       "  </thead>\n",
       "  <tbody>\n",
       "    <tr>\n",
       "      <th>0</th>\n",
       "      <td>abandon</td>\n",
       "      <td>-2</td>\n",
       "    </tr>\n",
       "    <tr>\n",
       "      <th>1</th>\n",
       "      <td>abandoned</td>\n",
       "      <td>-2</td>\n",
       "    </tr>\n",
       "    <tr>\n",
       "      <th>2</th>\n",
       "      <td>abandons</td>\n",
       "      <td>-2</td>\n",
       "    </tr>\n",
       "    <tr>\n",
       "      <th>3</th>\n",
       "      <td>abducted</td>\n",
       "      <td>-2</td>\n",
       "    </tr>\n",
       "    <tr>\n",
       "      <th>4</th>\n",
       "      <td>abduction</td>\n",
       "      <td>-2</td>\n",
       "    </tr>\n",
       "  </tbody>\n",
       "</table>\n",
       "</div>"
      ],
      "text/plain": [
       "        word  value\n",
       "0    abandon     -2\n",
       "1  abandoned     -2\n",
       "2   abandons     -2\n",
       "3   abducted     -2\n",
       "4  abduction     -2"
      ]
     },
     "execution_count": 13,
     "metadata": {},
     "output_type": "execute_result"
    }
   ],
   "source": [
    "## Reading Afinn data for Sentiment Values\n",
    "afinn = pd.read_csv('Afinn.csv', sep=',', encoding= 'latin-1')\n",
    "afinn.head()"
   ]
  },
  {
   "cell_type": "code",
   "execution_count": 14,
   "metadata": {
    "ExecuteTime": {
     "end_time": "2020-12-10T10:46:59.017668Z",
     "start_time": "2020-12-10T10:46:58.425612Z"
    }
   },
   "outputs": [
    {
     "data": {
      "text/plain": [
       "['no jokes on you, get out of the sanghi mindset and thin…Must be bannedDear Sir, please impose sanctions on Mynmar and support democracy in that country.',\n",
       " 'If we d…India has seen a new dawn of economic development under the leadership of PM Shri  &amp; FM Smt…Budget2021 Natl Research Foundation outlay at 50 thousand Cr rupees over 5 yrs\\n …Accident occurred on National Highway No.',\n",
       " '326 under control of Central Govt.',\n",
       " 'due to failure…The PM Gareeb Kalyan Yojana, the three Aatmanirbhar packages and announcements made later were five mini-budgets in…The investment on health infrastructure in this budget has increased substantially.',\n",
       " \"Progressively, as institutions…Let's trend reducefuelprice\\n\\ngovernment NarendraModi YOUTHAs  said  is doing  a corporate puppet is working on directions of corporates…Stretch from Jinjira Bazar to Sampriti Flyover is damaged for last…_  What mind ur language???\",\n",
       " 'Main kuch bhi gala…Free food grain to 800 million people, free cooking gas for 80 million families  \\nAatmaNirbharBharatKaBudgetCongratulations Zoya ji_Gayathri_R  _TNBJP _k _BJP   Kalyan h…🙌🙌\\nImmediate 302 In SSR CaseMy self SAI EASWAR NAGAR, Raithunagaram road, Nandyala, AP.',\n",
       " \"Please provide me STREET LIGHTS and DRAINAGE SYSTEM of…_India…We accepted our top agencies on Investigating but it's hard to trust with no strong action been taken so far in SSR…Peace 4 SSR's soul,It is truly disheartning 2 c certain individuals mocking his presnce,Saying he still exists,He w…Now mayanmar next you EvmChorThanks sir_India _India  Sir plz cancel boards exam sir plz…_Hindi    Conduct NEET2021…_India   Outstanding....... Best wishes Nirmala jiDear Pradeep ji,\\nBeing a ex-cello c…WelcomeAatmanirbhar Bharat is not a new concept.\",\n",
       " \"Ancient India was largely self-reliant and a business epicentre of the wo…_mande    _IND   We should  start this i…We appreciate this Govt's efforts.\",\n",
       " 'There will be so many economist on TV…In today’s AatmanirbharBharatKaBudget GoI made a provision of ₹2092 crore for Nashik Metro.',\n",
       " 'Thank you Hon PM…This is our new startup for save environment from plastic pollution.']"
      ]
     },
     "execution_count": 14,
     "metadata": {},
     "output_type": "execute_result"
    }
   ],
   "source": [
    "## Tokenizing the data\n",
    "from nltk import tokenize\n",
    "sentences = tokenize.sent_tokenize(''.join(df))\n",
    "sentences[0:10]"
   ]
  },
  {
   "cell_type": "code",
   "execution_count": 15,
   "metadata": {
    "ExecuteTime": {
     "end_time": "2020-12-10T11:00:39.752033Z",
     "start_time": "2020-12-10T11:00:39.732653Z"
    }
   },
   "outputs": [],
   "source": [
    "tw_df = pd.DataFrame(sentences)\n",
    "tw_df.columns = ['Sentences']"
   ]
  },
  {
   "cell_type": "code",
   "execution_count": 16,
   "metadata": {
    "ExecuteTime": {
     "end_time": "2020-12-10T10:47:03.909854Z",
     "start_time": "2020-12-10T10:47:03.890109Z"
    }
   },
   "outputs": [
    {
     "data": {
      "text/html": [
       "<div>\n",
       "<style scoped>\n",
       "    .dataframe tbody tr th:only-of-type {\n",
       "        vertical-align: middle;\n",
       "    }\n",
       "\n",
       "    .dataframe tbody tr th {\n",
       "        vertical-align: top;\n",
       "    }\n",
       "\n",
       "    .dataframe thead th {\n",
       "        text-align: right;\n",
       "    }\n",
       "</style>\n",
       "<table border=\"1\" class=\"dataframe\">\n",
       "  <thead>\n",
       "    <tr style=\"text-align: right;\">\n",
       "      <th></th>\n",
       "      <th>Sentences</th>\n",
       "    </tr>\n",
       "  </thead>\n",
       "  <tbody>\n",
       "    <tr>\n",
       "      <th>0</th>\n",
       "      <td>no jokes on you, get out of the sanghi mindset...</td>\n",
       "    </tr>\n",
       "    <tr>\n",
       "      <th>1</th>\n",
       "      <td>If we d…India has seen a new dawn of economic ...</td>\n",
       "    </tr>\n",
       "    <tr>\n",
       "      <th>2</th>\n",
       "      <td>326 under control of Central Govt.</td>\n",
       "    </tr>\n",
       "    <tr>\n",
       "      <th>3</th>\n",
       "      <td>due to failure…The PM Gareeb Kalyan Yojana, th...</td>\n",
       "    </tr>\n",
       "    <tr>\n",
       "      <th>4</th>\n",
       "      <td>Progressively, as institutions…Let's trend red...</td>\n",
       "    </tr>\n",
       "  </tbody>\n",
       "</table>\n",
       "</div>"
      ],
      "text/plain": [
       "                                           Sentences\n",
       "0  no jokes on you, get out of the sanghi mindset...\n",
       "1  If we d…India has seen a new dawn of economic ...\n",
       "2                 326 under control of Central Govt.\n",
       "3  due to failure…The PM Gareeb Kalyan Yojana, th...\n",
       "4  Progressively, as institutions…Let's trend red..."
      ]
     },
     "execution_count": 16,
     "metadata": {},
     "output_type": "execute_result"
    }
   ],
   "source": [
    "tw_df.head()"
   ]
  },
  {
   "cell_type": "code",
   "execution_count": 17,
   "metadata": {
    "ExecuteTime": {
     "end_time": "2020-12-10T10:47:05.595544Z",
     "start_time": "2020-12-10T10:47:05.568689Z"
    }
   },
   "outputs": [],
   "source": [
    "affinity_scores = afinn.set_index('word')['value'].to_dict()"
   ]
  },
  {
   "cell_type": "code",
   "execution_count": 18,
   "metadata": {
    "ExecuteTime": {
     "end_time": "2020-12-10T10:47:07.967778Z",
     "start_time": "2020-12-10T10:47:06.266694Z"
    }
   },
   "outputs": [],
   "source": [
    "nlp = spacy.load('en_core_web_sm')"
   ]
  },
  {
   "cell_type": "code",
   "execution_count": 22,
   "metadata": {
    "ExecuteTime": {
     "end_time": "2020-12-10T10:47:08.411053Z",
     "start_time": "2020-12-10T10:47:08.404984Z"
    }
   },
   "outputs": [],
   "source": [
    "### Lemmatization and generating sentiment scores\n",
    "sentiment_lexicon = affinity_scores\n",
    "def cal_sentiment(text: str = None):\n",
    "    sent_score = 0\n",
    "    if text:\n",
    "        sentence = nlp(text)\n",
    "        for word in sentence:\n",
    "            sent_score += sentiment_lexicon.get(word.lemma_, 0)\n",
    "            \n",
    "            return sent_score\n"
   ]
  },
  {
   "cell_type": "code",
   "execution_count": 23,
   "metadata": {
    "ExecuteTime": {
     "end_time": "2020-12-10T11:02:19.268834Z",
     "start_time": "2020-12-10T11:02:19.242760Z"
    }
   },
   "outputs": [
    {
     "data": {
      "text/plain": [
       "3"
      ]
     },
     "execution_count": 23,
     "metadata": {},
     "output_type": "execute_result"
    }
   ],
   "source": [
    "## Testing whether scores are correct\n",
    "cal_sentiment(text='great')"
   ]
  },
  {
   "cell_type": "code",
   "execution_count": 24,
   "metadata": {
    "ExecuteTime": {
     "end_time": "2020-12-10T11:02:27.943729Z",
     "start_time": "2020-12-10T11:02:24.213336Z"
    }
   },
   "outputs": [],
   "source": [
    "## Applying sentiment scores for twitter data and creating a column\n",
    "tw_df['Sentiment_value'] = tw_df['Sentences'].apply(cal_sentiment)"
   ]
  },
  {
   "cell_type": "code",
   "execution_count": 25,
   "metadata": {
    "ExecuteTime": {
     "end_time": "2020-12-10T10:47:15.158387Z",
     "start_time": "2020-12-10T10:47:15.150388Z"
    }
   },
   "outputs": [],
   "source": [
    "## Getting word count for a particular tweet and creating a column\n",
    "tw_df['word_count'] = tw_df['Sentences'].str.strip().apply(len)\n"
   ]
  },
  {
   "cell_type": "code",
   "execution_count": 26,
   "metadata": {
    "ExecuteTime": {
     "end_time": "2020-12-10T10:47:15.874768Z",
     "start_time": "2020-12-10T10:47:15.853663Z"
    }
   },
   "outputs": [
    {
     "data": {
      "text/html": [
       "<div>\n",
       "<style scoped>\n",
       "    .dataframe tbody tr th:only-of-type {\n",
       "        vertical-align: middle;\n",
       "    }\n",
       "\n",
       "    .dataframe tbody tr th {\n",
       "        vertical-align: top;\n",
       "    }\n",
       "\n",
       "    .dataframe thead th {\n",
       "        text-align: right;\n",
       "    }\n",
       "</style>\n",
       "<table border=\"1\" class=\"dataframe\">\n",
       "  <thead>\n",
       "    <tr style=\"text-align: right;\">\n",
       "      <th></th>\n",
       "      <th>Sentences</th>\n",
       "      <th>Sentiment_value</th>\n",
       "      <th>word_count</th>\n",
       "    </tr>\n",
       "  </thead>\n",
       "  <tbody>\n",
       "    <tr>\n",
       "      <th>0</th>\n",
       "      <td>no jokes on you, get out of the sanghi mindset...</td>\n",
       "      <td>-1</td>\n",
       "      <td>152</td>\n",
       "    </tr>\n",
       "    <tr>\n",
       "      <th>1</th>\n",
       "      <td>If we d…India has seen a new dawn of economic ...</td>\n",
       "      <td>0</td>\n",
       "      <td>226</td>\n",
       "    </tr>\n",
       "    <tr>\n",
       "      <th>2</th>\n",
       "      <td>326 under control of Central Govt.</td>\n",
       "      <td>0</td>\n",
       "      <td>34</td>\n",
       "    </tr>\n",
       "    <tr>\n",
       "      <th>3</th>\n",
       "      <td>due to failure…The PM Gareeb Kalyan Yojana, th...</td>\n",
       "      <td>0</td>\n",
       "      <td>214</td>\n",
       "    </tr>\n",
       "    <tr>\n",
       "      <th>4</th>\n",
       "      <td>Progressively, as institutions…Let's trend red...</td>\n",
       "      <td>0</td>\n",
       "      <td>261</td>\n",
       "    </tr>\n",
       "  </tbody>\n",
       "</table>\n",
       "</div>"
      ],
      "text/plain": [
       "                                           Sentences  Sentiment_value  \\\n",
       "0  no jokes on you, get out of the sanghi mindset...               -1   \n",
       "1  If we d…India has seen a new dawn of economic ...                0   \n",
       "2                 326 under control of Central Govt.                0   \n",
       "3  due to failure…The PM Gareeb Kalyan Yojana, th...                0   \n",
       "4  Progressively, as institutions…Let's trend red...                0   \n",
       "\n",
       "   word_count  \n",
       "0         152  \n",
       "1         226  \n",
       "2          34  \n",
       "3         214  \n",
       "4         261  "
      ]
     },
     "execution_count": 26,
     "metadata": {},
     "output_type": "execute_result"
    }
   ],
   "source": [
    "tw_df.head()"
   ]
  },
  {
   "cell_type": "code",
   "execution_count": 27,
   "metadata": {
    "ExecuteTime": {
     "end_time": "2020-12-10T10:47:18.880445Z",
     "start_time": "2020-12-10T10:47:18.853888Z"
    }
   },
   "outputs": [
    {
     "data": {
      "text/html": [
       "<div>\n",
       "<style scoped>\n",
       "    .dataframe tbody tr th:only-of-type {\n",
       "        vertical-align: middle;\n",
       "    }\n",
       "\n",
       "    .dataframe tbody tr th {\n",
       "        vertical-align: top;\n",
       "    }\n",
       "\n",
       "    .dataframe thead th {\n",
       "        text-align: right;\n",
       "    }\n",
       "</style>\n",
       "<table border=\"1\" class=\"dataframe\">\n",
       "  <thead>\n",
       "    <tr style=\"text-align: right;\">\n",
       "      <th></th>\n",
       "      <th>Sentences</th>\n",
       "      <th>Sentiment_value</th>\n",
       "      <th>word_count</th>\n",
       "    </tr>\n",
       "  </thead>\n",
       "  <tbody>\n",
       "    <tr>\n",
       "      <th>149</th>\n",
       "      <td>Glad that…Sir...i think you should also tagDea...</td>\n",
       "      <td>3</td>\n",
       "      <td>94</td>\n",
       "    </tr>\n",
       "    <tr>\n",
       "      <th>133</th>\n",
       "      <td>Thank you Hon PM…_ksaurav       Yay yes!</td>\n",
       "      <td>2</td>\n",
       "      <td>40</td>\n",
       "    </tr>\n",
       "    <tr>\n",
       "      <th>79</th>\n",
       "      <td>PEACE by submarine.</td>\n",
       "      <td>2</td>\n",
       "      <td>19</td>\n",
       "    </tr>\n",
       "    <tr>\n",
       "      <th>188</th>\n",
       "      <td>Strong Infrastructure\\n3.</td>\n",
       "      <td>2</td>\n",
       "      <td>24</td>\n",
       "    </tr>\n",
       "    <tr>\n",
       "      <th>216</th>\n",
       "      <td>Thanks Honourable PM  Union Minister……Bringbac...</td>\n",
       "      <td>2</td>\n",
       "      <td>377</td>\n",
       "    </tr>\n",
       "    <tr>\n",
       "      <th>...</th>\n",
       "      <td>...</td>\n",
       "      <td>...</td>\n",
       "      <td>...</td>\n",
       "    </tr>\n",
       "    <tr>\n",
       "      <th>241</th>\n",
       "      <td>No…_chu   _gadkari Modi has screwed the nation...</td>\n",
       "      <td>-1</td>\n",
       "      <td>565</td>\n",
       "    </tr>\n",
       "    <tr>\n",
       "      <th>183</th>\n",
       "      <td>no.</td>\n",
       "      <td>-1</td>\n",
       "      <td>3</td>\n",
       "    </tr>\n",
       "    <tr>\n",
       "      <th>111</th>\n",
       "      <td>Shame on you  \\nFarmersProtest \\nSHAMEONMODIGO...</td>\n",
       "      <td>-2</td>\n",
       "      <td>186</td>\n",
       "    </tr>\n",
       "    <tr>\n",
       "      <th>116</th>\n",
       "      <td>Pathetic situation of India under…Budget outla...</td>\n",
       "      <td>-2</td>\n",
       "      <td>102</td>\n",
       "    </tr>\n",
       "    <tr>\n",
       "      <th>173</th>\n",
       "      <td>Shame on pm modi.Day 55\\n , madam, in malnad w...</td>\n",
       "      <td>-2</td>\n",
       "      <td>81</td>\n",
       "    </tr>\n",
       "  </tbody>\n",
       "</table>\n",
       "<p>328 rows × 3 columns</p>\n",
       "</div>"
      ],
      "text/plain": [
       "                                             Sentences  Sentiment_value  \\\n",
       "149  Glad that…Sir...i think you should also tagDea...                3   \n",
       "133           Thank you Hon PM…_ksaurav       Yay yes!                2   \n",
       "79                                 PEACE by submarine.                2   \n",
       "188                          Strong Infrastructure\\n3.                2   \n",
       "216  Thanks Honourable PM  Union Minister……Bringbac...                2   \n",
       "..                                                 ...              ...   \n",
       "241  No…_chu   _gadkari Modi has screwed the nation...               -1   \n",
       "183                                                no.               -1   \n",
       "111  Shame on you  \\nFarmersProtest \\nSHAMEONMODIGO...               -2   \n",
       "116  Pathetic situation of India under…Budget outla...               -2   \n",
       "173  Shame on pm modi.Day 55\\n , madam, in malnad w...               -2   \n",
       "\n",
       "     word_count  \n",
       "149          94  \n",
       "133          40  \n",
       "79           19  \n",
       "188          24  \n",
       "216         377  \n",
       "..          ...  \n",
       "241         565  \n",
       "183           3  \n",
       "111         186  \n",
       "116         102  \n",
       "173          81  \n",
       "\n",
       "[328 rows x 3 columns]"
      ]
     },
     "execution_count": 27,
     "metadata": {},
     "output_type": "execute_result"
    }
   ],
   "source": [
    "## Sorting Sentiment values in descending order\n",
    "tw_df.sort_values(by='Sentiment_value', ascending= False)"
   ]
  },
  {
   "cell_type": "code",
   "execution_count": 28,
   "metadata": {
    "ExecuteTime": {
     "end_time": "2020-12-10T10:47:21.758437Z",
     "start_time": "2020-12-10T10:47:21.743049Z"
    }
   },
   "outputs": [
    {
     "data": {
      "text/plain": [
       "count    328.000000\n",
       "mean       0.100610\n",
       "std        0.535241\n",
       "min       -2.000000\n",
       "25%        0.000000\n",
       "50%        0.000000\n",
       "75%        0.000000\n",
       "max        3.000000\n",
       "Name: Sentiment_value, dtype: float64"
      ]
     },
     "execution_count": 28,
     "metadata": {},
     "output_type": "execute_result"
    }
   ],
   "source": [
    "tw_df['Sentiment_value'].describe()"
   ]
  },
  {
   "cell_type": "code",
   "execution_count": 29,
   "metadata": {
    "ExecuteTime": {
     "end_time": "2020-12-10T10:47:23.825674Z",
     "start_time": "2020-12-10T10:47:23.809405Z"
    }
   },
   "outputs": [
    {
     "data": {
      "text/html": [
       "<div>\n",
       "<style scoped>\n",
       "    .dataframe tbody tr th:only-of-type {\n",
       "        vertical-align: middle;\n",
       "    }\n",
       "\n",
       "    .dataframe tbody tr th {\n",
       "        vertical-align: top;\n",
       "    }\n",
       "\n",
       "    .dataframe thead th {\n",
       "        text-align: right;\n",
       "    }\n",
       "</style>\n",
       "<table border=\"1\" class=\"dataframe\">\n",
       "  <thead>\n",
       "    <tr style=\"text-align: right;\">\n",
       "      <th></th>\n",
       "      <th>Sentences</th>\n",
       "      <th>Sentiment_value</th>\n",
       "      <th>word_count</th>\n",
       "    </tr>\n",
       "  </thead>\n",
       "  <tbody>\n",
       "    <tr>\n",
       "      <th>6</th>\n",
       "      <td>Please provide me STREET LIGHTS and DRAINAGE S...</td>\n",
       "      <td>1</td>\n",
       "      <td>544</td>\n",
       "    </tr>\n",
       "    <tr>\n",
       "      <th>9</th>\n",
       "      <td>Thank you Hon PM…This is our new startup for s...</td>\n",
       "      <td>2</td>\n",
       "      <td>85</td>\n",
       "    </tr>\n",
       "    <tr>\n",
       "      <th>10</th>\n",
       "      <td>Please consider sir.…You surely are a dumbo.</td>\n",
       "      <td>1</td>\n",
       "      <td>44</td>\n",
       "    </tr>\n",
       "    <tr>\n",
       "      <th>13</th>\n",
       "      <td>Substantial…Under leadership of Prime Minister...</td>\n",
       "      <td>1</td>\n",
       "      <td>80</td>\n",
       "    </tr>\n",
       "    <tr>\n",
       "      <th>39</th>\n",
       "      <td>Please consider sir.</td>\n",
       "      <td>1</td>\n",
       "      <td>20</td>\n",
       "    </tr>\n",
       "    <tr>\n",
       "      <th>44</th>\n",
       "      <td>Please Click on the line…So far all announceme...</td>\n",
       "      <td>1</td>\n",
       "      <td>209</td>\n",
       "    </tr>\n",
       "    <tr>\n",
       "      <th>45</th>\n",
       "      <td>Big boost for R&amp;amp;D. Congratulation…Save The...</td>\n",
       "      <td>1</td>\n",
       "      <td>454</td>\n",
       "    </tr>\n",
       "    <tr>\n",
       "      <th>55</th>\n",
       "      <td>Thank u  ji\\n\\nAtmaNirbharBharatKaBudget\\nFarm...</td>\n",
       "      <td>2</td>\n",
       "      <td>461</td>\n",
       "    </tr>\n",
       "    <tr>\n",
       "      <th>56</th>\n",
       "      <td>Respected PM and Amit Sh…AatmanirbharBharatKaB...</td>\n",
       "      <td>2</td>\n",
       "      <td>236</td>\n",
       "    </tr>\n",
       "    <tr>\n",
       "      <th>63</th>\n",
       "      <td>Hope the money will be wisely spent on actual ...</td>\n",
       "      <td>2</td>\n",
       "      <td>267</td>\n",
       "    </tr>\n",
       "    <tr>\n",
       "      <th>79</th>\n",
       "      <td>PEACE by submarine.</td>\n",
       "      <td>2</td>\n",
       "      <td>19</td>\n",
       "    </tr>\n",
       "    <tr>\n",
       "      <th>85</th>\n",
       "      <td>please save our…_Shetty _Gayathri_R     Great ...</td>\n",
       "      <td>1</td>\n",
       "      <td>430</td>\n",
       "    </tr>\n",
       "    <tr>\n",
       "      <th>88</th>\n",
       "      <td>please save our…Sir better take power nap to a...</td>\n",
       "      <td>1</td>\n",
       "      <td>243</td>\n",
       "    </tr>\n",
       "    <tr>\n",
       "      <th>91</th>\n",
       "      <td>please save our…I just took the MannKiBaat Quiz.</td>\n",
       "      <td>1</td>\n",
       "      <td>48</td>\n",
       "    </tr>\n",
       "    <tr>\n",
       "      <th>94</th>\n",
       "      <td>please save our…_MCC   _mp     I…_koundal     ...</td>\n",
       "      <td>1</td>\n",
       "      <td>243</td>\n",
       "    </tr>\n",
       "    <tr>\n",
       "      <th>96</th>\n",
       "      <td>please save our…_nandini Why does  ji has so m...</td>\n",
       "      <td>1</td>\n",
       "      <td>1194</td>\n",
       "    </tr>\n",
       "    <tr>\n",
       "      <th>99</th>\n",
       "      <td>Congratulations     _OfficeSir, please trim yo...</td>\n",
       "      <td>2</td>\n",
       "      <td>55</td>\n",
       "    </tr>\n",
       "    <tr>\n",
       "      <th>121</th>\n",
       "      <td>Please do justice.</td>\n",
       "      <td>1</td>\n",
       "      <td>18</td>\n",
       "    </tr>\n",
       "    <tr>\n",
       "      <th>133</th>\n",
       "      <td>Thank you Hon PM…_ksaurav       Yay yes!</td>\n",
       "      <td>2</td>\n",
       "      <td>40</td>\n",
       "    </tr>\n",
       "    <tr>\n",
       "      <th>149</th>\n",
       "      <td>Glad that…Sir...i think you should also tagDea...</td>\n",
       "      <td>3</td>\n",
       "      <td>94</td>\n",
       "    </tr>\n",
       "    <tr>\n",
       "      <th>162</th>\n",
       "      <td>Thanks to  _  on this step.Ujjwala scheme will...</td>\n",
       "      <td>2</td>\n",
       "      <td>196</td>\n",
       "    </tr>\n",
       "    <tr>\n",
       "      <th>169</th>\n",
       "      <td>Please solve this matter as soon as possibleWh...</td>\n",
       "      <td>1</td>\n",
       "      <td>67</td>\n",
       "    </tr>\n",
       "    <tr>\n",
       "      <th>188</th>\n",
       "      <td>Strong Infrastructure\\n3.</td>\n",
       "      <td>2</td>\n",
       "      <td>24</td>\n",
       "    </tr>\n",
       "    <tr>\n",
       "      <th>216</th>\n",
       "      <td>Thanks Honourable PM  Union Minister……Bringbac...</td>\n",
       "      <td>2</td>\n",
       "      <td>377</td>\n",
       "    </tr>\n",
       "    <tr>\n",
       "      <th>232</th>\n",
       "      <td>like  a Vaccine fo…West Bengal gets Rs 25,000 ...</td>\n",
       "      <td>2</td>\n",
       "      <td>122</td>\n",
       "    </tr>\n",
       "    <tr>\n",
       "      <th>244</th>\n",
       "      <td>OPPORTUNITY FOR WRITERS?</td>\n",
       "      <td>2</td>\n",
       "      <td>24</td>\n",
       "    </tr>\n",
       "    <tr>\n",
       "      <th>254</th>\n",
       "      <td>Ha ha ha.</td>\n",
       "      <td>2</td>\n",
       "      <td>9</td>\n",
       "    </tr>\n",
       "    <tr>\n",
       "      <th>271</th>\n",
       "      <td>Thanks to all indian player .</td>\n",
       "      <td>2</td>\n",
       "      <td>29</td>\n",
       "    </tr>\n",
       "    <tr>\n",
       "      <th>315</th>\n",
       "      <td>Please give us a chance to defend our nation.</td>\n",
       "      <td>1</td>\n",
       "      <td>45</td>\n",
       "    </tr>\n",
       "  </tbody>\n",
       "</table>\n",
       "</div>"
      ],
      "text/plain": [
       "                                             Sentences  Sentiment_value  \\\n",
       "6    Please provide me STREET LIGHTS and DRAINAGE S...                1   \n",
       "9    Thank you Hon PM…This is our new startup for s...                2   \n",
       "10        Please consider sir.…You surely are a dumbo.                1   \n",
       "13   Substantial…Under leadership of Prime Minister...                1   \n",
       "39                                Please consider sir.                1   \n",
       "44   Please Click on the line…So far all announceme...                1   \n",
       "45   Big boost for R&amp;D. Congratulation…Save The...                1   \n",
       "55   Thank u  ji\\n\\nAtmaNirbharBharatKaBudget\\nFarm...                2   \n",
       "56   Respected PM and Amit Sh…AatmanirbharBharatKaB...                2   \n",
       "63   Hope the money will be wisely spent on actual ...                2   \n",
       "79                                 PEACE by submarine.                2   \n",
       "85   please save our…_Shetty _Gayathri_R     Great ...                1   \n",
       "88   please save our…Sir better take power nap to a...                1   \n",
       "91    please save our…I just took the MannKiBaat Quiz.                1   \n",
       "94   please save our…_MCC   _mp     I…_koundal     ...                1   \n",
       "96   please save our…_nandini Why does  ji has so m...                1   \n",
       "99   Congratulations     _OfficeSir, please trim yo...                2   \n",
       "121                                 Please do justice.                1   \n",
       "133           Thank you Hon PM…_ksaurav       Yay yes!                2   \n",
       "149  Glad that…Sir...i think you should also tagDea...                3   \n",
       "162  Thanks to  _  on this step.Ujjwala scheme will...                2   \n",
       "169  Please solve this matter as soon as possibleWh...                1   \n",
       "188                          Strong Infrastructure\\n3.                2   \n",
       "216  Thanks Honourable PM  Union Minister……Bringbac...                2   \n",
       "232  like  a Vaccine fo…West Bengal gets Rs 25,000 ...                2   \n",
       "244                           OPPORTUNITY FOR WRITERS?                2   \n",
       "254                                          Ha ha ha.                2   \n",
       "271                      Thanks to all indian player .                2   \n",
       "315      Please give us a chance to defend our nation.                1   \n",
       "\n",
       "     word_count  \n",
       "6           544  \n",
       "9            85  \n",
       "10           44  \n",
       "13           80  \n",
       "39           20  \n",
       "44          209  \n",
       "45          454  \n",
       "55          461  \n",
       "56          236  \n",
       "63          267  \n",
       "79           19  \n",
       "85          430  \n",
       "88          243  \n",
       "91           48  \n",
       "94          243  \n",
       "96         1194  \n",
       "99           55  \n",
       "121          18  \n",
       "133          40  \n",
       "149          94  \n",
       "162         196  \n",
       "169          67  \n",
       "188          24  \n",
       "216         377  \n",
       "232         122  \n",
       "244          24  \n",
       "254           9  \n",
       "271          29  \n",
       "315          45  "
      ]
     },
     "execution_count": 29,
     "metadata": {},
     "output_type": "execute_result"
    }
   ],
   "source": [
    "## Positive Sentiments\n",
    "pos_sentiment = tw_df[tw_df['Sentiment_value']>0]\n",
    "pos_sentiment"
   ]
  },
  {
   "cell_type": "code",
   "execution_count": 30,
   "metadata": {
    "ExecuteTime": {
     "end_time": "2020-12-10T10:47:29.643520Z",
     "start_time": "2020-12-10T10:47:29.619892Z"
    }
   },
   "outputs": [
    {
     "data": {
      "text/html": [
       "<div>\n",
       "<style scoped>\n",
       "    .dataframe tbody tr th:only-of-type {\n",
       "        vertical-align: middle;\n",
       "    }\n",
       "\n",
       "    .dataframe tbody tr th {\n",
       "        vertical-align: top;\n",
       "    }\n",
       "\n",
       "    .dataframe thead th {\n",
       "        text-align: right;\n",
       "    }\n",
       "</style>\n",
       "<table border=\"1\" class=\"dataframe\">\n",
       "  <thead>\n",
       "    <tr style=\"text-align: right;\">\n",
       "      <th></th>\n",
       "      <th>Sentences</th>\n",
       "      <th>Sentiment_value</th>\n",
       "      <th>word_count</th>\n",
       "    </tr>\n",
       "  </thead>\n",
       "  <tbody>\n",
       "    <tr>\n",
       "      <th>0</th>\n",
       "      <td>no jokes on you, get out of the sanghi mindset...</td>\n",
       "      <td>-1</td>\n",
       "      <td>152</td>\n",
       "    </tr>\n",
       "    <tr>\n",
       "      <th>49</th>\n",
       "      <td>No condolences towards…Modi ji finally gives i...</td>\n",
       "      <td>-1</td>\n",
       "      <td>62</td>\n",
       "    </tr>\n",
       "    <tr>\n",
       "      <th>111</th>\n",
       "      <td>Shame on you  \\nFarmersProtest \\nSHAMEONMODIGO...</td>\n",
       "      <td>-2</td>\n",
       "      <td>186</td>\n",
       "    </tr>\n",
       "    <tr>\n",
       "      <th>116</th>\n",
       "      <td>Pathetic situation of India under…Budget outla...</td>\n",
       "      <td>-2</td>\n",
       "      <td>102</td>\n",
       "    </tr>\n",
       "    <tr>\n",
       "      <th>173</th>\n",
       "      <td>Shame on pm modi.Day 55\\n , madam, in malnad w...</td>\n",
       "      <td>-2</td>\n",
       "      <td>81</td>\n",
       "    </tr>\n",
       "    <tr>\n",
       "      <th>183</th>\n",
       "      <td>no.</td>\n",
       "      <td>-1</td>\n",
       "      <td>3</td>\n",
       "    </tr>\n",
       "    <tr>\n",
       "      <th>241</th>\n",
       "      <td>No…_chu   _gadkari Modi has screwed the nation...</td>\n",
       "      <td>-1</td>\n",
       "      <td>565</td>\n",
       "    </tr>\n",
       "    <tr>\n",
       "      <th>261</th>\n",
       "      <td>No doubt.👏👏👍…SamePayForSameWork\\nPayRevisionFr...</td>\n",
       "      <td>-1</td>\n",
       "      <td>493</td>\n",
       "    </tr>\n",
       "    <tr>\n",
       "      <th>321</th>\n",
       "      <td>No more endless paper prints!</td>\n",
       "      <td>-1</td>\n",
       "      <td>29</td>\n",
       "    </tr>\n",
       "  </tbody>\n",
       "</table>\n",
       "</div>"
      ],
      "text/plain": [
       "                                             Sentences  Sentiment_value  \\\n",
       "0    no jokes on you, get out of the sanghi mindset...               -1   \n",
       "49   No condolences towards…Modi ji finally gives i...               -1   \n",
       "111  Shame on you  \\nFarmersProtest \\nSHAMEONMODIGO...               -2   \n",
       "116  Pathetic situation of India under…Budget outla...               -2   \n",
       "173  Shame on pm modi.Day 55\\n , madam, in malnad w...               -2   \n",
       "183                                                no.               -1   \n",
       "241  No…_chu   _gadkari Modi has screwed the nation...               -1   \n",
       "261  No doubt.👏👏👍…SamePayForSameWork\\nPayRevisionFr...               -1   \n",
       "321                      No more endless paper prints!               -1   \n",
       "\n",
       "     word_count  \n",
       "0           152  \n",
       "49           62  \n",
       "111         186  \n",
       "116         102  \n",
       "173          81  \n",
       "183           3  \n",
       "241         565  \n",
       "261         493  \n",
       "321          29  "
      ]
     },
     "execution_count": 30,
     "metadata": {},
     "output_type": "execute_result"
    }
   ],
   "source": [
    "## Negative Sentiments\n",
    "neg_sentiment = tw_df[tw_df['Sentiment_value']<0]\n",
    "neg_sentiment"
   ]
  },
  {
   "cell_type": "code",
   "execution_count": 31,
   "metadata": {
    "ExecuteTime": {
     "end_time": "2020-12-10T10:47:32.488782Z",
     "start_time": "2020-12-10T10:47:32.464750Z"
    }
   },
   "outputs": [
    {
     "data": {
      "text/html": [
       "<div>\n",
       "<style scoped>\n",
       "    .dataframe tbody tr th:only-of-type {\n",
       "        vertical-align: middle;\n",
       "    }\n",
       "\n",
       "    .dataframe tbody tr th {\n",
       "        vertical-align: top;\n",
       "    }\n",
       "\n",
       "    .dataframe thead th {\n",
       "        text-align: right;\n",
       "    }\n",
       "</style>\n",
       "<table border=\"1\" class=\"dataframe\">\n",
       "  <thead>\n",
       "    <tr style=\"text-align: right;\">\n",
       "      <th></th>\n",
       "      <th>Sentences</th>\n",
       "      <th>Sentiment_value</th>\n",
       "      <th>word_count</th>\n",
       "    </tr>\n",
       "  </thead>\n",
       "  <tbody>\n",
       "    <tr>\n",
       "      <th>1</th>\n",
       "      <td>If we d…India has seen a new dawn of economic ...</td>\n",
       "      <td>0</td>\n",
       "      <td>226</td>\n",
       "    </tr>\n",
       "    <tr>\n",
       "      <th>2</th>\n",
       "      <td>326 under control of Central Govt.</td>\n",
       "      <td>0</td>\n",
       "      <td>34</td>\n",
       "    </tr>\n",
       "    <tr>\n",
       "      <th>3</th>\n",
       "      <td>due to failure…The PM Gareeb Kalyan Yojana, th...</td>\n",
       "      <td>0</td>\n",
       "      <td>214</td>\n",
       "    </tr>\n",
       "    <tr>\n",
       "      <th>4</th>\n",
       "      <td>Progressively, as institutions…Let's trend red...</td>\n",
       "      <td>0</td>\n",
       "      <td>261</td>\n",
       "    </tr>\n",
       "    <tr>\n",
       "      <th>5</th>\n",
       "      <td>Main kuch bhi gala…Free food grain to 800 mill...</td>\n",
       "      <td>0</td>\n",
       "      <td>276</td>\n",
       "    </tr>\n",
       "    <tr>\n",
       "      <th>...</th>\n",
       "      <td>...</td>\n",
       "      <td>...</td>\n",
       "      <td>...</td>\n",
       "    </tr>\n",
       "    <tr>\n",
       "      <th>323</th>\n",
       "      <td>?Shall we write another obituary.</td>\n",
       "      <td>0</td>\n",
       "      <td>33</td>\n",
       "    </tr>\n",
       "    <tr>\n",
       "      <th>324</th>\n",
       "      <td>?another epitaph?</td>\n",
       "      <td>0</td>\n",
       "      <td>17</td>\n",
       "    </tr>\n",
       "    <tr>\n",
       "      <th>325</th>\n",
       "      <td>Immediate 302 in SS…shame on delhimetro for ru...</td>\n",
       "      <td>0</td>\n",
       "      <td>76</td>\n",
       "    </tr>\n",
       "    <tr>\n",
       "      <th>326</th>\n",
       "      <td>Mangu Singh and Pratibha,…_Surya   Hey just fo...</td>\n",
       "      <td>0</td>\n",
       "      <td>67</td>\n",
       "    </tr>\n",
       "    <tr>\n",
       "      <th>327</th>\n",
       "      <td>Aren’t you the racist kid_chadha   What you ju...</td>\n",
       "      <td>0</td>\n",
       "      <td>246</td>\n",
       "    </tr>\n",
       "  </tbody>\n",
       "</table>\n",
       "<p>290 rows × 3 columns</p>\n",
       "</div>"
      ],
      "text/plain": [
       "                                             Sentences  Sentiment_value  \\\n",
       "1    If we d…India has seen a new dawn of economic ...                0   \n",
       "2                   326 under control of Central Govt.                0   \n",
       "3    due to failure…The PM Gareeb Kalyan Yojana, th...                0   \n",
       "4    Progressively, as institutions…Let's trend red...                0   \n",
       "5    Main kuch bhi gala…Free food grain to 800 mill...                0   \n",
       "..                                                 ...              ...   \n",
       "323                  ?Shall we write another obituary.                0   \n",
       "324                                  ?another epitaph?                0   \n",
       "325  Immediate 302 in SS…shame on delhimetro for ru...                0   \n",
       "326  Mangu Singh and Pratibha,…_Surya   Hey just fo...                0   \n",
       "327  Aren’t you the racist kid_chadha   What you ju...                0   \n",
       "\n",
       "     word_count  \n",
       "1           226  \n",
       "2            34  \n",
       "3           214  \n",
       "4           261  \n",
       "5           276  \n",
       "..          ...  \n",
       "323          33  \n",
       "324          17  \n",
       "325          76  \n",
       "326          67  \n",
       "327         246  \n",
       "\n",
       "[290 rows x 3 columns]"
      ]
     },
     "execution_count": 31,
     "metadata": {},
     "output_type": "execute_result"
    }
   ],
   "source": [
    "## Neutral Sentiments\n",
    "neutral_sentiment = tw_df[tw_df['Sentiment_value'] == 0]\n",
    "neutral_sentiment"
   ]
  },
  {
   "cell_type": "code",
   "execution_count": 32,
   "metadata": {
    "ExecuteTime": {
     "end_time": "2020-12-10T10:56:03.715767Z",
     "start_time": "2020-12-10T10:56:03.699768Z"
    }
   },
   "outputs": [],
   "source": [
    "## Creating index column\n",
    "tw_df['index'] = range(0,len(tw_df))"
   ]
  },
  {
   "cell_type": "code",
   "execution_count": 33,
   "metadata": {
    "ExecuteTime": {
     "end_time": "2020-12-10T10:56:25.968621Z",
     "start_time": "2020-12-10T10:56:25.951921Z"
    }
   },
   "outputs": [
    {
     "data": {
      "text/plain": [
       "(328, 4)"
      ]
     },
     "execution_count": 33,
     "metadata": {},
     "output_type": "execute_result"
    }
   ],
   "source": [
    "tw_df.shape"
   ]
  },
  {
   "cell_type": "code",
   "execution_count": 34,
   "metadata": {
    "ExecuteTime": {
     "end_time": "2020-12-10T10:49:05.292152Z",
     "start_time": "2020-12-10T10:49:05.047813Z"
    }
   },
   "outputs": [
    {
     "data": {
      "text/plain": [
       "<AxesSubplot:xlabel='index', ylabel='Sentiment_value'>"
      ]
     },
     "execution_count": 34,
     "metadata": {},
     "output_type": "execute_result"
    },
    {
     "data": {
      "image/png": "[encoded data removed]",
      "text/plain": [
       "<Figure size 1152x288 with 1 Axes>"
      ]
     },
     "metadata": {
      "needs_background": "light"
     },
     "output_type": "display_data"
    }
   ],
   "source": [
    "plt.figure(figsize=(16, 4))\n",
    "sns.lineplot(y= 'Sentiment_value', x='index', data= tw_df)"
   ]
  },
  {
   "cell_type": "code",
   "execution_count": 35,
   "metadata": {
    "ExecuteTime": {
     "end_time": "2020-12-10T10:53:35.489469Z",
     "start_time": "2020-12-10T10:53:35.304647Z"
    }
   },
   "outputs": [
    {
     "data": {
      "text/plain": [
       "<matplotlib.collections.PathCollection at 0x1e798782ee0>"
      ]
     },
     "execution_count": 35,
     "metadata": {},
     "output_type": "execute_result"
    },
    {
     "data": {
      "image/png": "[encoded data removed]",
      "text/plain": [
       "<Figure size 432x288 with 1 Axes>"
      ]
     },
     "metadata": {
      "needs_background": "light"
     },
     "output_type": "display_data"
    }
   ],
   "source": [
    "plt.scatter(tw_df['Sentiment_value'], tw_df['word_count'])"
   ]
  },
  {
   "cell_type": "code",
   "execution_count": null,
   "metadata": {},
   "outputs": [],
   "source": []
  }
 ],
 "metadata": {
  "kernelspec": {
   "display_name": "Python 3",
   "language": "python",
   "name": "python3"
  },
  "language_info": {
   "codemirror_mode": {
    "name": "ipython",
    "version": 3
   },
   "file_extension": ".py",
   "mimetype": "text/x-python",
   "name": "python",
   "nbconvert_exporter": "python",
   "pygments_lexer": "ipython3",
   "version": "3.8.5"
  },
  "varInspector": {
   "cols": {
    "lenName": 16,
    "lenType": 16,
    "lenVar": 40
   },
   "kernels_config": {
    "python": {
     "delete_cmd_postfix": "",
     "delete_cmd_prefix": "del ",
     "library": "var_list.py",
     "varRefreshCmd": "print(var_dic_list())"
    },
    "r": {
     "delete_cmd_postfix": ") ",
     "delete_cmd_prefix": "rm(",
     "library": "var_list.r",
     "varRefreshCmd": "cat(var_dic_list()) "
    }
   },
   "types_to_exclude": [
    "module",
    "function",
    "builtin_function_or_method",
    "instance",
    "_Feature"
   ],
   "window_display": false
  }
 },
 "nbformat": 4,
 "nbformat_minor": 4
}
